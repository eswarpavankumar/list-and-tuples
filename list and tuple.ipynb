{
 "cells": [
  {
   "cell_type": "code",
   "execution_count": 1,
   "id": "218370a7",
   "metadata": {},
   "outputs": [],
   "source": [
    " l =[]"
   ]
  },
  {
   "cell_type": "code",
   "execution_count": 3,
   "id": "93f56cb3",
   "metadata": {},
   "outputs": [
    {
     "data": {
      "text/plain": [
       "list"
      ]
     },
     "execution_count": 3,
     "metadata": {},
     "output_type": "execute_result"
    }
   ],
   "source": [
    "type(l)"
   ]
  },
  {
   "cell_type": "code",
   "execution_count": 11,
   "id": "5f95c7ca",
   "metadata": {},
   "outputs": [],
   "source": [
    "l = [3,4,5,\"Vamshi\",\"Akshay\",\"Manohar\",8.9,True]"
   ]
  },
  {
   "cell_type": "code",
   "execution_count": 7,
   "id": "bd955a45",
   "metadata": {},
   "outputs": [
    {
     "data": {
      "text/plain": [
       "list"
      ]
     },
     "execution_count": 7,
     "metadata": {},
     "output_type": "execute_result"
    }
   ],
   "source": [
    "type(l)"
   ]
  },
  {
   "cell_type": "code",
   "execution_count": 12,
   "id": "a564a011",
   "metadata": {},
   "outputs": [
    {
     "data": {
      "text/plain": [
       "8.9"
      ]
     },
     "execution_count": 12,
     "metadata": {},
     "output_type": "execute_result"
    }
   ],
   "source": [
    "l[6]"
   ]
  },
  {
   "cell_type": "code",
   "execution_count": 13,
   "id": "46cad87b",
   "metadata": {},
   "outputs": [
    {
     "data": {
      "text/plain": [
       "'Manohar'"
      ]
     },
     "execution_count": 13,
     "metadata": {},
     "output_type": "execute_result"
    }
   ],
   "source": [
    "l[-3]"
   ]
  },
  {
   "cell_type": "markdown",
   "id": "18edf71e",
   "metadata": {},
   "source": []
  },
  {
   "cell_type": "code",
   "execution_count": 14,
   "id": "53612017",
   "metadata": {},
   "outputs": [
    {
     "ename": "IndexError",
     "evalue": "list index out of range",
     "output_type": "error",
     "traceback": [
      "\u001b[1;31m---------------------------------------------------------------------------\u001b[0m",
      "\u001b[1;31mIndexError\u001b[0m                                Traceback (most recent call last)",
      "Input \u001b[1;32mIn [14]\u001b[0m, in \u001b[0;36m<cell line: 1>\u001b[1;34m()\u001b[0m\n\u001b[1;32m----> 1\u001b[0m \u001b[43ml\u001b[49m\u001b[43m[\u001b[49m\u001b[38;5;241;43m100\u001b[39;49m\u001b[43m]\u001b[49m\n",
      "\u001b[1;31mIndexError\u001b[0m: list index out of range"
     ]
    }
   ],
   "source": [
    "l[100]"
   ]
  },
  {
   "cell_type": "code",
   "execution_count": 15,
   "id": "15391c0d",
   "metadata": {},
   "outputs": [
    {
     "ename": "IndexError",
     "evalue": "list index out of range",
     "output_type": "error",
     "traceback": [
      "\u001b[1;31m---------------------------------------------------------------------------\u001b[0m",
      "\u001b[1;31mIndexError\u001b[0m                                Traceback (most recent call last)",
      "Input \u001b[1;32mIn [15]\u001b[0m, in \u001b[0;36m<cell line: 1>\u001b[1;34m()\u001b[0m\n\u001b[1;32m----> 1\u001b[0m \u001b[43ml\u001b[49m\u001b[43m[\u001b[49m\u001b[38;5;241;43m-\u001b[39;49m\u001b[38;5;241;43m100\u001b[39;49m\u001b[43m]\u001b[49m\n",
      "\u001b[1;31mIndexError\u001b[0m: list index out of range"
     ]
    }
   ],
   "source": [
    "l[-100]"
   ]
  },
  {
   "cell_type": "code",
   "execution_count": 16,
   "id": "85b1e513",
   "metadata": {},
   "outputs": [
    {
     "data": {
      "text/plain": [
       "[3, 4, 5, 'Vamshi', 'Akshay', 'Manohar']"
      ]
     },
     "execution_count": 16,
     "metadata": {},
     "output_type": "execute_result"
    }
   ],
   "source": [
    "l[0:6]"
   ]
  },
  {
   "cell_type": "code",
   "execution_count": 17,
   "id": "4da2468f",
   "metadata": {},
   "outputs": [
    {
     "data": {
      "text/plain": [
       "[3, 5, 'Akshay']"
      ]
     },
     "execution_count": 17,
     "metadata": {},
     "output_type": "execute_result"
    }
   ],
   "source": [
    "l[0:6:2]"
   ]
  },
  {
   "cell_type": "code",
   "execution_count": 18,
   "id": "2400ec2f",
   "metadata": {},
   "outputs": [
    {
     "data": {
      "text/plain": [
       "[4, 'Akshay']"
      ]
     },
     "execution_count": 18,
     "metadata": {},
     "output_type": "execute_result"
    }
   ],
   "source": [
    "l[1:5:3]"
   ]
  },
  {
   "cell_type": "code",
   "execution_count": 19,
   "id": "9fd9dd68",
   "metadata": {},
   "outputs": [
    {
     "data": {
      "text/plain": [
       "8.9"
      ]
     },
     "execution_count": 19,
     "metadata": {},
     "output_type": "execute_result"
    }
   ],
   "source": [
    "l[6]"
   ]
  },
  {
   "cell_type": "code",
   "execution_count": 20,
   "id": "48230b09",
   "metadata": {},
   "outputs": [
    {
     "data": {
      "text/plain": [
       "[True, 'Manohar', 'Vamshi', 4]"
      ]
     },
     "execution_count": 20,
     "metadata": {},
     "output_type": "execute_result"
    }
   ],
   "source": [
    "l[-1:-100:-2]"
   ]
  },
  {
   "cell_type": "code",
   "execution_count": 25,
   "id": "c0353d7b",
   "metadata": {},
   "outputs": [
    {
     "data": {
      "text/plain": [
       "[True, 8.9, 'Manohar', 'Akshay', 'Vamshi', 5, 4, 3]"
      ]
     },
     "execution_count": 25,
     "metadata": {},
     "output_type": "execute_result"
    }
   ],
   "source": [
    "l[-1:-100:-1]"
   ]
  },
  {
   "cell_type": "code",
   "execution_count": 26,
   "id": "dd106b20",
   "metadata": {},
   "outputs": [
    {
     "data": {
      "text/plain": [
       "[True, 8.9, 'Manohar', 'Akshay', 'Vamshi', 5, 4, 3]"
      ]
     },
     "execution_count": 26,
     "metadata": {},
     "output_type": "execute_result"
    }
   ],
   "source": [
    "l[::-1]"
   ]
  },
  {
   "cell_type": "code",
   "execution_count": 27,
   "id": "d986d5f2",
   "metadata": {},
   "outputs": [
    {
     "data": {
      "text/plain": [
       "[True, 8.9, 'Manohar', 'Akshay', 'Vamshi', 5, 4, 3]"
      ]
     },
     "execution_count": 27,
     "metadata": {},
     "output_type": "execute_result"
    }
   ],
   "source": [
    "l[: :-1]"
   ]
  },
  {
   "cell_type": "code",
   "execution_count": 29,
   "id": "dd34f54d",
   "metadata": {},
   "outputs": [
    {
     "data": {
      "text/plain": [
       "[3, 4, 5, 'Vamshi', 'Akshay', 'Manohar', 8.9, True, 'Tulsi']"
      ]
     },
     "execution_count": 29,
     "metadata": {},
     "output_type": "execute_result"
    }
   ],
   "source": [
    "l+[\"Tulsi\"]"
   ]
  },
  {
   "cell_type": "code",
   "execution_count": 30,
   "id": "ad53cc79",
   "metadata": {},
   "outputs": [
    {
     "data": {
      "text/plain": [
       "True"
      ]
     },
     "execution_count": 30,
     "metadata": {},
     "output_type": "execute_result"
    }
   ],
   "source": [
    "\"Manohar\" in l"
   ]
  },
  {
   "cell_type": "code",
   "execution_count": 31,
   "id": "58e70a93",
   "metadata": {},
   "outputs": [
    {
     "data": {
      "text/plain": [
       "False"
      ]
     },
     "execution_count": 31,
     "metadata": {},
     "output_type": "execute_result"
    }
   ],
   "source": [
    "70 in l"
   ]
  },
  {
   "cell_type": "code",
   "execution_count": 33,
   "id": "46074dbf",
   "metadata": {},
   "outputs": [],
   "source": [
    "l.append(\"Venkatesh\")"
   ]
  },
  {
   "cell_type": "code",
   "execution_count": 36,
   "id": "e99d4a75",
   "metadata": {},
   "outputs": [
    {
     "data": {
      "text/plain": [
       "[3, 4, 5, 'Vamshi', 'Akshay', 'Manohar', 8.9, True, 'Venkatesh', 'Venkatesh']"
      ]
     },
     "execution_count": 36,
     "metadata": {},
     "output_type": "execute_result"
    }
   ],
   "source": [
    "l"
   ]
  },
  {
   "cell_type": "code",
   "execution_count": 35,
   "id": "0bb68cf1",
   "metadata": {},
   "outputs": [
    {
     "data": {
      "text/plain": [
       "[3, 4, 5, 'Vamshi', 'Akshay', 'Manohar', 8.9, True, 'Venkatesh', 'Venkatesh']"
      ]
     },
     "execution_count": 35,
     "metadata": {},
     "output_type": "execute_result"
    }
   ],
   "source": [
    "l"
   ]
  },
  {
   "cell_type": "code",
   "execution_count": 37,
   "id": "ec26173e",
   "metadata": {},
   "outputs": [
    {
     "data": {
      "text/plain": [
       "1"
      ]
     },
     "execution_count": 37,
     "metadata": {},
     "output_type": "execute_result"
    }
   ],
   "source": [
    "l.count(4)"
   ]
  },
  {
   "cell_type": "code",
   "execution_count": 42,
   "id": "c45d406e",
   "metadata": {},
   "outputs": [],
   "source": [
    "l.extend(\"Keerthi\")"
   ]
  },
  {
   "cell_type": "code",
   "execution_count": 45,
   "id": "e799b068",
   "metadata": {},
   "outputs": [
    {
     "data": {
      "text/plain": [
       "[3,\n",
       " 4,\n",
       " 5,\n",
       " 'Vamshi',\n",
       " 'Akshay',\n",
       " 'Manohar',\n",
       " 8.9,\n",
       " True,\n",
       " 'Venkatesh',\n",
       " 'Venkatesh',\n",
       " 'K',\n",
       " 'e',\n",
       " 'e',\n",
       " 'r',\n",
       " 't',\n",
       " 'h',\n",
       " 'i',\n",
       " 'K',\n",
       " 'e',\n",
       " 'e',\n",
       " 'r',\n",
       " 't',\n",
       " 'h',\n",
       " 'i',\n",
       " 'K',\n",
       " 'e',\n",
       " 'e',\n",
       " 'r',\n",
       " 't',\n",
       " 'h',\n",
       " 'i',\n",
       " 'K',\n",
       " 'e',\n",
       " 'e',\n",
       " 'r',\n",
       " 't',\n",
       " 'h',\n",
       " 'i',\n",
       " 5,\n",
       " 6,\n",
       " 7,\n",
       " True,\n",
       " 8.9,\n",
       " 5,\n",
       " 6,\n",
       " 7,\n",
       " True,\n",
       " 8.9]"
      ]
     },
     "execution_count": 45,
     "metadata": {},
     "output_type": "execute_result"
    }
   ],
   "source": [
    "l"
   ]
  },
  {
   "cell_type": "code",
   "execution_count": 46,
   "id": "46ebcabb",
   "metadata": {},
   "outputs": [],
   "source": [
    "l.extend([5,6,7,True,8.9])"
   ]
  },
  {
   "cell_type": "code",
   "execution_count": 47,
   "id": "0d52c2d9",
   "metadata": {},
   "outputs": [
    {
     "data": {
      "text/plain": [
       "[3,\n",
       " 4,\n",
       " 5,\n",
       " 'Vamshi',\n",
       " 'Akshay',\n",
       " 'Manohar',\n",
       " 8.9,\n",
       " True,\n",
       " 'Venkatesh',\n",
       " 'Venkatesh',\n",
       " 'K',\n",
       " 'e',\n",
       " 'e',\n",
       " 'r',\n",
       " 't',\n",
       " 'h',\n",
       " 'i',\n",
       " 'K',\n",
       " 'e',\n",
       " 'e',\n",
       " 'r',\n",
       " 't',\n",
       " 'h',\n",
       " 'i',\n",
       " 'K',\n",
       " 'e',\n",
       " 'e',\n",
       " 'r',\n",
       " 't',\n",
       " 'h',\n",
       " 'i',\n",
       " 'K',\n",
       " 'e',\n",
       " 'e',\n",
       " 'r',\n",
       " 't',\n",
       " 'h',\n",
       " 'i',\n",
       " 5,\n",
       " 6,\n",
       " 7,\n",
       " True,\n",
       " 8.9,\n",
       " 5,\n",
       " 6,\n",
       " 7,\n",
       " True,\n",
       " 8.9,\n",
       " 5,\n",
       " 6,\n",
       " 7,\n",
       " True,\n",
       " 8.9]"
      ]
     },
     "execution_count": 47,
     "metadata": {},
     "output_type": "execute_result"
    }
   ],
   "source": [
    "l"
   ]
  },
  {
   "cell_type": "code",
   "execution_count": 62,
   "id": "6002cd3f",
   "metadata": {},
   "outputs": [],
   "source": [
    "ll = [5,4,5,6,7,8,3,3,3,3]"
   ]
  },
  {
   "cell_type": "code",
   "execution_count": 55,
   "id": "3d2ca328",
   "metadata": {},
   "outputs": [
    {
     "data": {
      "text/plain": [
       "6"
      ]
     },
     "execution_count": 55,
     "metadata": {},
     "output_type": "execute_result"
    }
   ],
   "source": [
    "ll .index(3)"
   ]
  },
  {
   "cell_type": "code",
   "execution_count": 56,
   "id": "80a405d4",
   "metadata": {},
   "outputs": [
    {
     "data": {
      "text/plain": [
       "3"
      ]
     },
     "execution_count": 56,
     "metadata": {},
     "output_type": "execute_result"
    }
   ],
   "source": [
    "ll.pop()"
   ]
  },
  {
   "cell_type": "code",
   "execution_count": 57,
   "id": "87bd1a0b",
   "metadata": {},
   "outputs": [
    {
     "data": {
      "text/plain": [
       "[5, 4, 5, 6, 7, 8, 3, 3, 3]"
      ]
     },
     "execution_count": 57,
     "metadata": {},
     "output_type": "execute_result"
    }
   ],
   "source": [
    "ll"
   ]
  },
  {
   "cell_type": "code",
   "execution_count": 58,
   "id": "c5162946",
   "metadata": {},
   "outputs": [
    {
     "data": {
      "text/plain": [
       "6"
      ]
     },
     "execution_count": 58,
     "metadata": {},
     "output_type": "execute_result"
    }
   ],
   "source": [
    "ll.pop(3)"
   ]
  },
  {
   "cell_type": "code",
   "execution_count": 61,
   "id": "e4175102",
   "metadata": {},
   "outputs": [],
   "source": [
    "ll .remove(3)"
   ]
  },
  {
   "cell_type": "code",
   "execution_count": 63,
   "id": "04ea4fe8",
   "metadata": {},
   "outputs": [
    {
     "data": {
      "text/plain": [
       "[5, 4, 5, 6, 7, 8, 3, 3, 3, 3]"
      ]
     },
     "execution_count": 63,
     "metadata": {},
     "output_type": "execute_result"
    }
   ],
   "source": [
    "ll"
   ]
  },
  {
   "cell_type": "code",
   "execution_count": 64,
   "id": "724c05ce",
   "metadata": {},
   "outputs": [],
   "source": [
    "ll .reverse()"
   ]
  },
  {
   "cell_type": "code",
   "execution_count": 65,
   "id": "22b5c6b3",
   "metadata": {},
   "outputs": [
    {
     "data": {
      "text/plain": [
       "[3, 3, 3, 3, 8, 7, 6, 5, 4, 5]"
      ]
     },
     "execution_count": 65,
     "metadata": {},
     "output_type": "execute_result"
    }
   ],
   "source": [
    "ll"
   ]
  },
  {
   "cell_type": "code",
   "execution_count": 68,
   "id": "8c49cc86",
   "metadata": {},
   "outputs": [],
   "source": [
    "ll .insert(2,8)"
   ]
  },
  {
   "cell_type": "code",
   "execution_count": 70,
   "id": "e9898c76",
   "metadata": {},
   "outputs": [
    {
     "data": {
      "text/plain": [
       "[3, 3, 8, 8, 3, 3, 8, 7, 6, 5, 9, 4, 5]"
      ]
     },
     "execution_count": 70,
     "metadata": {},
     "output_type": "execute_result"
    }
   ],
   "source": [
    "ll"
   ]
  },
  {
   "cell_type": "code",
   "execution_count": 71,
   "id": "04bcdca6",
   "metadata": {},
   "outputs": [],
   "source": [
    "ll .insert(-2,9)"
   ]
  },
  {
   "cell_type": "code",
   "execution_count": 72,
   "id": "602bbb24",
   "metadata": {},
   "outputs": [
    {
     "data": {
      "text/plain": [
       "[3, 3, 8, 8, 3, 3, 8, 7, 6, 5, 9, 9, 4, 5]"
      ]
     },
     "execution_count": 72,
     "metadata": {},
     "output_type": "execute_result"
    }
   ],
   "source": [
    "ll"
   ]
  },
  {
   "cell_type": "code",
   "execution_count": 73,
   "id": "43e9327a",
   "metadata": {},
   "outputs": [],
   "source": [
    "ll.sort()"
   ]
  },
  {
   "cell_type": "code",
   "execution_count": 74,
   "id": "a3712283",
   "metadata": {},
   "outputs": [
    {
     "data": {
      "text/plain": [
       "[3, 3, 3, 3, 4, 5, 5, 6, 7, 8, 8, 8, 9, 9]"
      ]
     },
     "execution_count": 74,
     "metadata": {},
     "output_type": "execute_result"
    }
   ],
   "source": [
    "ll"
   ]
  },
  {
   "cell_type": "code",
   "execution_count": 75,
   "id": "57939730",
   "metadata": {},
   "outputs": [
    {
     "data": {
      "text/plain": [
       "[3,\n",
       " 4,\n",
       " 5,\n",
       " 'Vamshi',\n",
       " 'Akshay',\n",
       " 'Manohar',\n",
       " 8.9,\n",
       " True,\n",
       " 'Venkatesh',\n",
       " 'Venkatesh',\n",
       " 'K',\n",
       " 'e',\n",
       " 'e',\n",
       " 'r',\n",
       " 't',\n",
       " 'h',\n",
       " 'i',\n",
       " 'K',\n",
       " 'e',\n",
       " 'e',\n",
       " 'r',\n",
       " 't',\n",
       " 'h',\n",
       " 'i',\n",
       " 'K',\n",
       " 'e',\n",
       " 'e',\n",
       " 'r',\n",
       " 't',\n",
       " 'h',\n",
       " 'i',\n",
       " 'K',\n",
       " 'e',\n",
       " 'e',\n",
       " 'r',\n",
       " 't',\n",
       " 'h',\n",
       " 'i',\n",
       " 5,\n",
       " 6,\n",
       " 7,\n",
       " True,\n",
       " 8.9,\n",
       " 5,\n",
       " 6,\n",
       " 7,\n",
       " True,\n",
       " 8.9,\n",
       " 5,\n",
       " 6,\n",
       " 7,\n",
       " True,\n",
       " 8.9,\n",
       " 3,\n",
       " 3,\n",
       " 3,\n",
       " 3,\n",
       " 4,\n",
       " 5,\n",
       " 5,\n",
       " 6,\n",
       " 7,\n",
       " 8,\n",
       " 8,\n",
       " 8,\n",
       " 9,\n",
       " 9]"
      ]
     },
     "execution_count": 75,
     "metadata": {},
     "output_type": "execute_result"
    }
   ],
   "source": [
    "l+ll"
   ]
  },
  {
   "cell_type": "code",
   "execution_count": 76,
   "id": "e8fe0c4e",
   "metadata": {},
   "outputs": [
    {
     "data": {
      "text/plain": [
       "[3,\n",
       " 4,\n",
       " 5,\n",
       " 'Vamshi',\n",
       " 'Akshay',\n",
       " 'Manohar',\n",
       " 8.9,\n",
       " True,\n",
       " 'Venkatesh',\n",
       " 'Venkatesh',\n",
       " 'K',\n",
       " 'e',\n",
       " 'e',\n",
       " 'r',\n",
       " 't',\n",
       " 'h',\n",
       " 'i',\n",
       " 'K',\n",
       " 'e',\n",
       " 'e',\n",
       " 'r',\n",
       " 't',\n",
       " 'h',\n",
       " 'i',\n",
       " 'K',\n",
       " 'e',\n",
       " 'e',\n",
       " 'r',\n",
       " 't',\n",
       " 'h',\n",
       " 'i',\n",
       " 'K',\n",
       " 'e',\n",
       " 'e',\n",
       " 'r',\n",
       " 't',\n",
       " 'h',\n",
       " 'i',\n",
       " 5,\n",
       " 6,\n",
       " 7,\n",
       " True,\n",
       " 8.9,\n",
       " 5,\n",
       " 6,\n",
       " 7,\n",
       " True,\n",
       " 8.9,\n",
       " 5,\n",
       " 6,\n",
       " 7,\n",
       " True,\n",
       " 8.9,\n",
       " 3,\n",
       " 4,\n",
       " 5,\n",
       " 6,\n",
       " 7]"
      ]
     },
     "execution_count": 76,
     "metadata": {},
     "output_type": "execute_result"
    }
   ],
   "source": [
    "l+[3,4,5,6,7]"
   ]
  },
  {
   "cell_type": "code",
   "execution_count": 77,
   "id": "f74652a8",
   "metadata": {},
   "outputs": [],
   "source": [
    "l = [3,4,5,6,[2,4,\"Vamshi\",\"Manohar\",\"Akshay\",78,9.0]]"
   ]
  },
  {
   "cell_type": "code",
   "execution_count": 80,
   "id": "cce9a362",
   "metadata": {},
   "outputs": [
    {
     "data": {
      "text/plain": [
       "[3, 4, 5, 6, [2, 4, 'Vamshi', 'Manohar', 'Akshay', 78, 9.0]]"
      ]
     },
     "execution_count": 80,
     "metadata": {},
     "output_type": "execute_result"
    }
   ],
   "source": [
    "l"
   ]
  },
  {
   "cell_type": "code",
   "execution_count": 82,
   "id": "02d7d3af",
   "metadata": {},
   "outputs": [
    {
     "data": {
      "text/plain": [
       "[2, 4, 'Vamshi', 'Manohar', 'Akshay', 78, 9.0]"
      ]
     },
     "execution_count": 82,
     "metadata": {},
     "output_type": "execute_result"
    }
   ],
   "source": [
    "l[4]"
   ]
  },
  {
   "cell_type": "code",
   "execution_count": 83,
   "id": "70214b13",
   "metadata": {},
   "outputs": [
    {
     "data": {
      "text/plain": [
       "'Akshay'"
      ]
     },
     "execution_count": 83,
     "metadata": {},
     "output_type": "execute_result"
    }
   ],
   "source": [
    "l[4][4]"
   ]
  },
  {
   "cell_type": "code",
   "execution_count": 84,
   "id": "fc237a00",
   "metadata": {},
   "outputs": [
    {
     "data": {
      "text/plain": [
       "'Manohar'"
      ]
     },
     "execution_count": 84,
     "metadata": {},
     "output_type": "execute_result"
    }
   ],
   "source": [
    "l[4][3]"
   ]
  },
  {
   "cell_type": "code",
   "execution_count": 86,
   "id": "50cab62d",
   "metadata": {},
   "outputs": [],
   "source": [
    "t = ()"
   ]
  },
  {
   "cell_type": "code",
   "execution_count": 87,
   "id": "374aa2c6",
   "metadata": {},
   "outputs": [
    {
     "data": {
      "text/plain": [
       "tuple"
      ]
     },
     "execution_count": 87,
     "metadata": {},
     "output_type": "execute_result"
    }
   ],
   "source": [
    "type(t)"
   ]
  },
  {
   "cell_type": "code",
   "execution_count": 88,
   "id": "7b0a6b9f",
   "metadata": {},
   "outputs": [],
   "source": [
    "t =(3,6,7,8,\"Manohar\",\"Vamshi\",4.6,True)"
   ]
  },
  {
   "cell_type": "code",
   "execution_count": 89,
   "id": "779cc65b",
   "metadata": {},
   "outputs": [
    {
     "data": {
      "text/plain": [
       "3"
      ]
     },
     "execution_count": 89,
     "metadata": {},
     "output_type": "execute_result"
    }
   ],
   "source": [
    "t[0]"
   ]
  },
  {
   "cell_type": "code",
   "execution_count": 90,
   "id": "96728025",
   "metadata": {},
   "outputs": [
    {
     "data": {
      "text/plain": [
       "4.6"
      ]
     },
     "execution_count": 90,
     "metadata": {},
     "output_type": "execute_result"
    }
   ],
   "source": [
    "t[-2]"
   ]
  },
  {
   "cell_type": "code",
   "execution_count": 91,
   "id": "500bfe05",
   "metadata": {},
   "outputs": [
    {
     "data": {
      "text/plain": [
       "(3, 6, 7)"
      ]
     },
     "execution_count": 91,
     "metadata": {},
     "output_type": "execute_result"
    }
   ],
   "source": [
    "t[0:3:1]"
   ]
  },
  {
   "cell_type": "code",
   "execution_count": 92,
   "id": "12e78faf",
   "metadata": {},
   "outputs": [
    {
     "ename": "TypeError",
     "evalue": "'tuple' object does not support item assignment",
     "output_type": "error",
     "traceback": [
      "\u001b[1;31m---------------------------------------------------------------------------\u001b[0m",
      "\u001b[1;31mTypeError\u001b[0m                                 Traceback (most recent call last)",
      "Input \u001b[1;32mIn [92]\u001b[0m, in \u001b[0;36m<cell line: 1>\u001b[1;34m()\u001b[0m\n\u001b[1;32m----> 1\u001b[0m t[\u001b[38;5;241m2\u001b[39m] \u001b[38;5;241m=\u001b[39m \u001b[38;5;241m5\u001b[39m\n",
      "\u001b[1;31mTypeError\u001b[0m: 'tuple' object does not support item assignment"
     ]
    }
   ],
   "source": [
    "t[2] = 5"
   ]
  },
  {
   "cell_type": "code",
   "execution_count": 93,
   "id": "151ba4d4",
   "metadata": {},
   "outputs": [
    {
     "data": {
      "text/plain": [
       "[3, 4, 5, 6, [2, 4, 'Vamshi', 'Manohar', 'Akshay', 78, 9.0]]"
      ]
     },
     "execution_count": 93,
     "metadata": {},
     "output_type": "execute_result"
    }
   ],
   "source": [
    "l"
   ]
  },
  {
   "cell_type": "code",
   "execution_count": 94,
   "id": "ece28a44",
   "metadata": {},
   "outputs": [],
   "source": [
    "l[2] = 5"
   ]
  },
  {
   "cell_type": "code",
   "execution_count": 95,
   "id": "80c88180",
   "metadata": {},
   "outputs": [
    {
     "data": {
      "text/plain": [
       "[3, 4, 5, 6, [2, 4, 'Vamshi', 'Manohar', 'Akshay', 78, 9.0]]"
      ]
     },
     "execution_count": 95,
     "metadata": {},
     "output_type": "execute_result"
    }
   ],
   "source": [
    "l"
   ]
  },
  {
   "cell_type": "code",
   "execution_count": 96,
   "id": "c71d79fe",
   "metadata": {},
   "outputs": [],
   "source": [
    "t1=(\"SaiPranay\",45,78,23,7.56,False)"
   ]
  },
  {
   "cell_type": "code",
   "execution_count": 97,
   "id": "d04c8855",
   "metadata": {},
   "outputs": [
    {
     "data": {
      "text/plain": [
       "(3,\n",
       " 6,\n",
       " 7,\n",
       " 8,\n",
       " 'Manohar',\n",
       " 'Vamshi',\n",
       " 4.6,\n",
       " True,\n",
       " 'SaiPranay',\n",
       " 45,\n",
       " 78,\n",
       " 23,\n",
       " 7.56,\n",
       " False)"
      ]
     },
     "execution_count": 97,
     "metadata": {},
     "output_type": "execute_result"
    }
   ],
   "source": [
    "t+t1"
   ]
  },
  {
   "cell_type": "code",
   "execution_count": 98,
   "id": "94a1fbb0",
   "metadata": {},
   "outputs": [
    {
     "data": {
      "text/plain": [
       "1"
      ]
     },
     "execution_count": 98,
     "metadata": {},
     "output_type": "execute_result"
    }
   ],
   "source": [
    "t.count(8)"
   ]
  },
  {
   "cell_type": "code",
   "execution_count": 99,
   "id": "c4f151ea",
   "metadata": {},
   "outputs": [],
   "source": [
    "t= (3,6,7,8,'Manohar','Vamshi',4.6,True,8,8,8,8)"
   ]
  },
  {
   "cell_type": "code",
   "execution_count": 100,
   "id": "cb03a5fb",
   "metadata": {},
   "outputs": [
    {
     "data": {
      "text/plain": [
       "5"
      ]
     },
     "execution_count": 100,
     "metadata": {},
     "output_type": "execute_result"
    }
   ],
   "source": [
    "t.count(8)"
   ]
  },
  {
   "cell_type": "code",
   "execution_count": 101,
   "id": "223a0ba0",
   "metadata": {},
   "outputs": [
    {
     "data": {
      "text/plain": [
       "3"
      ]
     },
     "execution_count": 101,
     "metadata": {},
     "output_type": "execute_result"
    }
   ],
   "source": [
    "t.index(8)"
   ]
  },
  {
   "cell_type": "code",
   "execution_count": 103,
   "id": "13dd86b3",
   "metadata": {},
   "outputs": [],
   "source": [
    "t2 = ((2,4,5,6,7),23,45,67,89,\"Manohar\",\"Vamshi\",True)"
   ]
  },
  {
   "cell_type": "code",
   "execution_count": 104,
   "id": "46ea5034",
   "metadata": {},
   "outputs": [
    {
     "data": {
      "text/plain": [
       "((2, 4, 5, 6, 7), 23, 45, 67, 89, 'Manohar', 'Vamshi', True)"
      ]
     },
     "execution_count": 104,
     "metadata": {},
     "output_type": "execute_result"
    }
   ],
   "source": [
    "t2"
   ]
  },
  {
   "cell_type": "code",
   "execution_count": 105,
   "id": "7d2de075",
   "metadata": {},
   "outputs": [],
   "source": [
    "t3 = ([2,4,5,6,7],23,45,67,89,'Manohar','Vamshi',True)"
   ]
  },
  {
   "cell_type": "code",
   "execution_count": 106,
   "id": "f0406d22",
   "metadata": {},
   "outputs": [
    {
     "data": {
      "text/plain": [
       "([2, 4, 5, 6, 7], 23, 45, 67, 89, 'Manohar', 'Vamshi', True)"
      ]
     },
     "execution_count": 106,
     "metadata": {},
     "output_type": "execute_result"
    }
   ],
   "source": [
    "t3"
   ]
  },
  {
   "cell_type": "code",
   "execution_count": 107,
   "id": "6c3737af",
   "metadata": {},
   "outputs": [
    {
     "data": {
      "text/plain": [
       "5"
      ]
     },
     "execution_count": 107,
     "metadata": {},
     "output_type": "execute_result"
    }
   ],
   "source": [
    "t3[0][2]"
   ]
  },
  {
   "cell_type": "code",
   "execution_count": null,
   "id": "4f314392",
   "metadata": {},
   "outputs": [],
   "source": [
    "    "
   ]
  }
 ],
 "metadata": {
  "kernelspec": {
   "display_name": "Python 3 (ipykernel)",
   "language": "python",
   "name": "python3"
  },
  "language_info": {
   "codemirror_mode": {
    "name": "ipython",
    "version": 3
   },
   "file_extension": ".py",
   "mimetype": "text/x-python",
   "name": "python",
   "nbconvert_exporter": "python",
   "pygments_lexer": "ipython3",
   "version": "3.9.12"
  }
 },
 "nbformat": 4,
 "nbformat_minor": 5
}
